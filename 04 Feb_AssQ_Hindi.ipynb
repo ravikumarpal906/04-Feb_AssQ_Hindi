{
 "cells": [
  {
   "cell_type": "markdown",
   "id": "950b53e7-2c1e-4ceb-b66d-2a0c28b0a124",
   "metadata": {},
   "source": [
    "Q1. Create a python program to sort the given list of tuples based on integer value using a\n",
    "lambda function."
   ]
  },
  {
   "cell_type": "code",
   "execution_count": 12,
   "id": "9dc8c1b6-47c8-4391-9810-0ab743247eda",
   "metadata": {},
   "outputs": [],
   "source": [
    "# Sample list of tuples\n",
    "tuples_list = [('Sachin Tendulkar', 34357), ('Ricky Ponting', 27483), ('Jack Kallis', 25534), ('Virat Kohli', 24936)]"
   ]
  },
  {
   "cell_type": "code",
   "execution_count": 13,
   "id": "d204b964-797c-40c0-ab5f-c2de91e40c09",
   "metadata": {},
   "outputs": [],
   "source": [
    "# Sort the list based on the first element (integer value) in each tuple using a lambda function\n",
    "sorted_list = sorted(tuples_list, key=lambda x: x[1],reverse=False)"
   ]
  },
  {
   "cell_type": "code",
   "execution_count": 14,
   "id": "85ea6260-a415-4269-861b-6a08e1805d0d",
   "metadata": {},
   "outputs": [
    {
     "name": "stdout",
     "output_type": "stream",
     "text": [
      "[('Virat Kohli', 24936), ('Jack Kallis', 25534), ('Ricky Ponting', 27483), ('Sachin Tendulkar', 34357)]\n"
     ]
    }
   ],
   "source": [
    "# Print the sorted list\n",
    "print(sorted_list)"
   ]
  },
  {
   "cell_type": "raw",
   "id": "4b73eaf6-556b-4a44-892e-1f81fffcccd3",
   "metadata": {},
   "source": []
  },
  {
   "cell_type": "markdown",
   "id": "3af38add-c3f9-4348-9ebb-ea5e29a70a35",
   "metadata": {},
   "source": [
    "Q2. Write a Python Program to find the squares of all the numbers in the given list of integers using\n",
    "lambda and map functions.\n",
    "[1, 2, 3, 4, 5, 6, 7, 8, 9, 10]"
   ]
  },
  {
   "cell_type": "code",
   "execution_count": 23,
   "id": "16fde31f-1e24-411c-b633-3919abd37785",
   "metadata": {},
   "outputs": [],
   "source": [
    "l=[1,2,3,4,5]"
   ]
  },
  {
   "cell_type": "code",
   "execution_count": 24,
   "id": "dfae96fb-39a5-461d-9fcd-738e12e49bdc",
   "metadata": {},
   "outputs": [
    {
     "data": {
      "text/plain": [
       "[1, 4, 9, 16, 25]"
      ]
     },
     "execution_count": 24,
     "metadata": {},
     "output_type": "execute_result"
    }
   ],
   "source": [
    "list(map(lambda n:n**2,l))"
   ]
  },
  {
   "cell_type": "raw",
   "id": "322d44d1-2ca1-49d4-be41-ddb9c29e39d8",
   "metadata": {},
   "source": []
  },
  {
   "cell_type": "markdown",
   "id": "18133760-4886-47ad-bbe4-2e14784d32e6",
   "metadata": {},
   "source": [
    "Q3. Write a python program to convert the given list of integers into a tuple of strings. Use map and\n",
    "lambda functions\n",
    "Given String: [1, 2, 3, 4, 5, 6, 7, 8, 9, 10]\n",
    "Expected output: ('1', '2', '3', '4', '5', '6', '7', '8', '9', '10')"
   ]
  },
  {
   "cell_type": "code",
   "execution_count": 26,
   "id": "79578da9-5369-4740-aa54-37864c31b997",
   "metadata": {},
   "outputs": [],
   "source": [
    "l=[1,2,3,4,5,6,7,8,9,10]"
   ]
  },
  {
   "cell_type": "code",
   "execution_count": 27,
   "id": "96ac129b-de02-4e87-8ee0-582b9ec9171e",
   "metadata": {},
   "outputs": [
    {
     "data": {
      "text/plain": [
       "('1', '2', '3', '4', '5', '6', '7', '8', '9', '10')"
      ]
     },
     "execution_count": 27,
     "metadata": {},
     "output_type": "execute_result"
    }
   ],
   "source": [
    "tuple(map(lambda x: str(x),l))"
   ]
  },
  {
   "cell_type": "raw",
   "id": "c21751b0-4aaa-4705-ab60-c6822d7a2b72",
   "metadata": {},
   "source": []
  },
  {
   "cell_type": "markdown",
   "id": "11ec9f2b-f0b1-46fb-a5f0-412868d6b173",
   "metadata": {},
   "source": [
    "Q4. Write a python program using reduce function to compute the product of a list containing numbers\n",
    "from 1 to 25."
   ]
  },
  {
   "cell_type": "code",
   "execution_count": 47,
   "id": "d458ab6f-7f6d-4b93-882b-576b6ac80670",
   "metadata": {},
   "outputs": [],
   "source": [
    "from functools import reduce"
   ]
  },
  {
   "cell_type": "code",
   "execution_count": 48,
   "id": "e52efc96-c50c-4224-9c28-3a35312fc53b",
   "metadata": {},
   "outputs": [],
   "source": [
    "l=list(range(1,26))"
   ]
  },
  {
   "cell_type": "code",
   "execution_count": 49,
   "id": "477930c2-e2f5-4f2a-8931-f602f86bd3f2",
   "metadata": {},
   "outputs": [
    {
     "data": {
      "text/plain": [
       "15511210043330985984000000"
      ]
     },
     "execution_count": 49,
     "metadata": {},
     "output_type": "execute_result"
    }
   ],
   "source": [
    "reduce(lambda x,y:x*y,l)"
   ]
  },
  {
   "cell_type": "raw",
   "id": "2a70c529-4920-41d1-ad49-f0e4e2725678",
   "metadata": {},
   "source": []
  },
  {
   "cell_type": "markdown",
   "id": "e4a9bf5a-3887-44ce-b2be-f170de28a4ad",
   "metadata": {},
   "source": [
    "Q5. Write a python program to filter the numbers in a given list that are divisible by 2 and 3 using the\n",
    "filter function.\n",
    "[2, 3, 6, 9, 27, 60, 90, 120, 55, 46]"
   ]
  },
  {
   "cell_type": "code",
   "execution_count": 1,
   "id": "04b45c04-7b17-428e-84d5-9757cb941f6c",
   "metadata": {},
   "outputs": [],
   "source": [
    "l=[2, 3, 6, 9, 27, 60, 90, 120, 55, 46]"
   ]
  },
  {
   "cell_type": "code",
   "execution_count": 3,
   "id": "0b78b694-7e5a-4522-9395-17ec5213b176",
   "metadata": {},
   "outputs": [
    {
     "data": {
      "text/plain": [
       "[6, 60, 90, 120]"
      ]
     },
     "execution_count": 3,
     "metadata": {},
     "output_type": "execute_result"
    }
   ],
   "source": [
    "list(filter(lambda x:x%2==0 and x%3==0,l))"
   ]
  },
  {
   "cell_type": "raw",
   "id": "d214e600-4eb5-49af-9d0b-6e2f0c85980f",
   "metadata": {},
   "source": []
  },
  {
   "cell_type": "markdown",
   "id": "6d90ca24-435b-4dfd-a895-774c174ee387",
   "metadata": {},
   "source": [
    "Q6. Write a python program to find palindromes in the given list of strings using lambda and filter\n",
    "function.\n",
    "['python', 'php', 'aba', 'radar', 'level']"
   ]
  },
  {
   "cell_type": "code",
   "execution_count": 4,
   "id": "b9ccd8f5-205f-492b-bc4c-3e6109f07370",
   "metadata": {},
   "outputs": [],
   "source": [
    "l=['python', 'php', 'aba', 'radar', 'level']"
   ]
  },
  {
   "cell_type": "code",
   "execution_count": null,
   "id": "73dc8e26-6878-48d3-92f6-7553a56cd008",
   "metadata": {},
   "outputs": [],
   "source": [
    "list(filter(lambda"
   ]
  }
 ],
 "metadata": {
  "kernelspec": {
   "display_name": "Python 3 (ipykernel)",
   "language": "python",
   "name": "python3"
  },
  "language_info": {
   "codemirror_mode": {
    "name": "ipython",
    "version": 3
   },
   "file_extension": ".py",
   "mimetype": "text/x-python",
   "name": "python",
   "nbconvert_exporter": "python",
   "pygments_lexer": "ipython3",
   "version": "3.10.8"
  }
 },
 "nbformat": 4,
 "nbformat_minor": 5
}
